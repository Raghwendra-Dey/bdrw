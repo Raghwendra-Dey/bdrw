{
 "cells": [
  {
   "cell_type": "markdown",
   "metadata": {},
   "source": [
    "<pre>\n",
    "<h1>Coding Project 1 For DLFA-spr2020</h1>\n",
    "                                Submission BY: Raghwendra Dey\n",
    "                                Roll No      : 18IE10018\n",
    "</pre>"
   ]
  },
  {
   "cell_type": "markdown",
   "metadata": {},
   "source": [
    "<h3>Questions:</h3><br>\n",
    "1. how you have split the dataset into train, text, validation?<br>\n",
    "Ans: First, I divided the whole dataset into train and test sets in a 9:1 split then that training dataset is further divided into train and valid sets in 9:1 split using random sampling from it.<br><br>\n",
    "2. have you taken any methods to compensate for class imbalance?<br>\n",
    "Ans: No.<br><br>\n",
    "3. any conditions of hot restart during training?<br>\n",
    "Ans: No.<br><br>\n",
    "4. present the training/validation loss curves and indicate how you have chosen the stopping criteria?<br>\n",
    "Ans: Training And Validation loss curves are after training and evaluation block.<br>\n",
    "For stopping criteria i am observing the validation loss and stop when validation loss doesn't decrease further for consecutive *PATIENCE* (which is currently set to 5) number of epochs.<br><br>\n",
    "5. calculate the model space and inference compute complexity and indicate it on your .ipynb. <br>\n",
    "Ans: Model Space Complexity:<br>\n",
    "Convolutional Layer 1: (3x5x5 + 1)x32 = 2432 params (=>2432x4 bytes)<br>\n",
    "BatchNorm Layer 1: 2x32 = 64 params (=>64x4 bytes)<br>\n",
    "Convolutional Layer 2: (32x3x3 + 1)x32 = 9248 params (=>9248x4 bytes)<br>\n",
    "BatchNorm Layer 2: 2x32 = 64 params (=>64x4 bytes)<br>\n",
    "Convolutional Layer 3: (32x5x5 + 1)x64 = 51264 params (=>51264x4 bytes)<br>\n",
    "BatchNorm Layer 3: 2x64 = 128 params (=>128x4 bytes)<br>\n",
    "Rest of the components dont have any trainable params<br>\n",
    "<br>\n",
    "Inference Compute Complexity (Assuming MAC processor) :<br>\n",
    "&num; of Ops in Convolutional Layer 1: 32x(3x5x5+1)x(35)x(28) = 2383360<br>\n",
    "&num; of Ops in BatchNorm Layer 1: 2x32x35x28 = 62720 (Since each pixel needs to be multiplied by gamma and then added with beta)<br>\n",
    "&num; of Ops in MaxPool Layer 1: 32x(2x2-1)x(17)x(14) = 22848<br>\n",
    "&num; of Ops in Convolutional Layer 2: 32x(32x3x3+1)x(19)x(16) = 2811392<br>\n",
    "&num; of Ops in BatchNorm Layer 2: 2x32x19x16 = 19456 (Since each pixel needs to be multiplied by gamma and then added with beta)<br>\n",
    "&num; of Ops in MaxPool Layer 2: 32x(2x2-1)x(9)x(8) = 6912<br>\n",
    "&num; of Ops in Convolutional Layer 3: 64x(32x5x5+1)x(9)x(8) = 3691008<br>\n",
    "&num; of Ops in BatchNorm Layer 3: 2x64x9x8 = 9216 (Since each pixel needs to be multiplied by gamma and then added with beta)<br>\n",
    "&num; of Ops in MaxPool Layer 3: 64x(2x2-1)x(4)x(4) = 3072<br>\n",
    "&num; of Ops in Fully Connected Layer 1: (64x4x4+1)x64 = 65600<br>\n",
    "&num; of Ops in Fully Connected Layer 2: (64+1)x10 = 650<br>"
   ]
  },
  {
   "cell_type": "code",
   "execution_count": 2,
   "metadata": {
    "_cell_guid": "79c7e3d0-c299-4dcb-8224-4455121ee9b0",
    "_uuid": "d629ff2d2480ee46fbb7e2d37f6b5fab8052498a"
   },
   "outputs": [],
   "source": [
    "import pandas as pd\n",
    "import numpy as np\n",
    "import cv2\n",
    "from zipfile import ZipFile\n",
    "import matplotlib.pyplot as plt\n",
    "import os\n",
    "import glob"
   ]
  },
  {
   "cell_type": "markdown",
   "metadata": {},
   "source": [
    "# Data Preprocessing "
   ]
  },
  {
   "cell_type": "code",
   "execution_count": 3,
   "metadata": {},
   "outputs": [
    {
     "name": "stdout",
     "output_type": "stream",
     "text": [
      "Extracting all the files now...\n",
      "Done!\n",
      "Extracting all the files now...\n",
      "Done!\n"
     ]
    }
   ],
   "source": [
    "# unzipping data files\n",
    "# Modify this below variable to point to the location of BDRW_train_ (Remember don't put any 1 or 2 after BDRW_train_) \n",
    "base_file_name = \"../input/bdrw/BDRW_train/BDRW_train_\"\n",
    "  \n",
    "for i in range(2):\n",
    "    with ZipFile(base_file_name+str(i+1)+'.zip', 'r') as zip: \n",
    "        print('Extracting all the files now...') \n",
    "        zip.extractall() \n",
    "        print('Done!') "
   ]
  },
  {
   "cell_type": "code",
   "execution_count": 4,
   "metadata": {},
   "outputs": [
    {
     "data": {
      "text/html": [
       "<div>\n",
       "<style scoped>\n",
       "    .dataframe tbody tr th:only-of-type {\n",
       "        vertical-align: middle;\n",
       "    }\n",
       "\n",
       "    .dataframe tbody tr th {\n",
       "        vertical-align: top;\n",
       "    }\n",
       "\n",
       "    .dataframe thead th {\n",
       "        text-align: right;\n",
       "    }\n",
       "</style>\n",
       "<table border=\"1\" class=\"dataframe\">\n",
       "  <thead>\n",
       "    <tr style=\"text-align: right;\">\n",
       "      <th></th>\n",
       "      <th>digit_name</th>\n",
       "      <th>label</th>\n",
       "    </tr>\n",
       "  </thead>\n",
       "  <tbody>\n",
       "    <tr>\n",
       "      <th>0</th>\n",
       "      <td>digit_0</td>\n",
       "      <td>1</td>\n",
       "    </tr>\n",
       "    <tr>\n",
       "      <th>1</th>\n",
       "      <td>digit_1</td>\n",
       "      <td>4</td>\n",
       "    </tr>\n",
       "    <tr>\n",
       "      <th>2</th>\n",
       "      <td>digit_2</td>\n",
       "      <td>2</td>\n",
       "    </tr>\n",
       "    <tr>\n",
       "      <th>3</th>\n",
       "      <td>digit_3</td>\n",
       "      <td>3</td>\n",
       "    </tr>\n",
       "    <tr>\n",
       "      <th>4</th>\n",
       "      <td>digit_4</td>\n",
       "      <td>1</td>\n",
       "    </tr>\n",
       "    <tr>\n",
       "      <th>5</th>\n",
       "      <td>digit_5</td>\n",
       "      <td>2</td>\n",
       "    </tr>\n",
       "    <tr>\n",
       "      <th>6</th>\n",
       "      <td>digit_6</td>\n",
       "      <td>3</td>\n",
       "    </tr>\n",
       "    <tr>\n",
       "      <th>7</th>\n",
       "      <td>digit_7</td>\n",
       "      <td>4</td>\n",
       "    </tr>\n",
       "    <tr>\n",
       "      <th>8</th>\n",
       "      <td>digit_8</td>\n",
       "      <td>5</td>\n",
       "    </tr>\n",
       "    <tr>\n",
       "      <th>9</th>\n",
       "      <td>digit_9</td>\n",
       "      <td>6</td>\n",
       "    </tr>\n",
       "  </tbody>\n",
       "</table>\n",
       "</div>"
      ],
      "text/plain": [
       "  digit_name  label\n",
       "0    digit_0      1\n",
       "1    digit_1      4\n",
       "2    digit_2      2\n",
       "3    digit_3      3\n",
       "4    digit_4      1\n",
       "5    digit_5      2\n",
       "6    digit_6      3\n",
       "7    digit_7      4\n",
       "8    digit_8      5\n",
       "9    digit_9      6"
      ]
     },
     "execution_count": 4,
     "metadata": {},
     "output_type": "execute_result"
    }
   ],
   "source": [
    "# Loading the Labels file\n",
    "labels = pd.read_excel('BDRW_train_2/labels.xls', header=None, names=['digit_name', 'label'])\n",
    "labels.head(10)"
   ]
  },
  {
   "cell_type": "code",
   "execution_count": 5,
   "metadata": {},
   "outputs": [
    {
     "data": {
      "image/png": "[encoded data removed]",
      "text/plain": [
       "<Figure size 432x288 with 1 Axes>"
      ]
     },
     "metadata": {
      "needs_background": "light"
     },
     "output_type": "display_data"
    }
   ],
   "source": [
    "# Histogram of the data\n",
    "labels['label'].hist()\n",
    "labels = np.array(labels['label'])"
   ]
  },
  {
   "cell_type": "code",
   "execution_count": 6,
   "metadata": {},
   "outputs": [],
   "source": [
    "# Sorting the images files according to the labels list and loading to a list\n",
    "image_list = []\n",
    "for i in range(2):\n",
    "    for file in sorted(glob.glob('BDRW_train_'+str(i+1)+'/*.jpg'), key=lambda s:int(s.split('_')[-1].split('.')[0])):\n",
    "        im = cv2.imread(file)\n",
    "        image_list.append(im)\n",
    "        \n",
    "image_list = np.array(image_list)"
   ]
  },
  {
   "cell_type": "code",
   "execution_count": 7,
   "metadata": {},
   "outputs": [
    {
     "data": {
      "text/plain": [
       "array([35.45441493, 27.82483848])"
      ]
     },
     "execution_count": 7,
     "metadata": {},
     "output_type": "execute_result"
    },
    {
     "data": {
      "image/png": "[encoded data removed]",
      "text/plain": [
       "<Figure size 432x288 with 1 Axes>"
      ]
     },
     "metadata": {
      "needs_background": "light"
     },
     "output_type": "display_data"
    }
   ],
   "source": [
    "# Distribution of the shapes of the input images and finding the mean to resize all the images to that mean \n",
    "# height and width later.\n",
    "shapes = np.array([x.shape for x in image_list]).T\n",
    "plt.scatter(shapes[0], shapes[1])\n",
    "np.mean(shapes[:2], axis=1)"
   ]
  },
  {
   "cell_type": "markdown",
   "metadata": {},
   "source": [
    "# Model Building"
   ]
  },
  {
   "cell_type": "code",
   "execution_count": 8,
   "metadata": {},
   "outputs": [],
   "source": [
    "import torch\n",
    "import torchvision\n",
    "import torch.nn as nn\n",
    "from torchvision import transforms\n",
    "import torch.nn.functional as F\n",
    "from PIL import Image"
   ]
  },
  {
   "cell_type": "code",
   "execution_count": 9,
   "metadata": {},
   "outputs": [],
   "source": [
    "# Dataset class\n",
    "class custom_dataset(torch.utils.data.Dataset):\n",
    "    def __init__(self, image_list, labels, height, width):\n",
    "        self.image_list = image_list\n",
    "        self.labels = labels\n",
    "        self.height = height\n",
    "        self.width = width\n",
    "        \n",
    "    def transform(self):\n",
    "        return(transforms.Compose([\n",
    "            transforms.Resize(size=(self.height, self.width)),\n",
    "            transforms.ToTensor()\n",
    "        ]))\n",
    "    \n",
    "    def __getitem__(self, index):\n",
    "        label = self.labels[index]\n",
    "        im = self.image_list[index]\n",
    "        im = Image.fromarray(im)\n",
    "        im = self.transform()(im)\n",
    "        \n",
    "        return (im, label)\n",
    "    \n",
    "    def __len__(self):\n",
    "        return len(self.image_list)"
   ]
  },
  {
   "cell_type": "code",
   "execution_count": 10,
   "metadata": {},
   "outputs": [],
   "source": [
    "# Function to return the input pipelines for the model\n",
    "from sklearn.model_selection import train_test_split\n",
    "from torch.utils.data.sampler import SubsetRandomSampler\n",
    "\n",
    "def create_dataset(image_list, labels, BATCH_SIZE=64, TEST_SIZE=0.10, VALID_SIZE=0.05, HEIGHT=35, WIDTH=28):\n",
    "    X_train, X_test, Y_train, Y_test = train_test_split(image_list, labels, test_size=TEST_SIZE)\n",
    "    train_ds = custom_dataset(X_train, Y_train, HEIGHT, WIDTH)\n",
    "    test_ds = custom_dataset(X_test, Y_test, HEIGHT, WIDTH)\n",
    "    \n",
    "    num_train = len(train_ds)\n",
    "    indices = list(range(num_train))\n",
    "    np.random.shuffle(indices)\n",
    "    split = int(np.floor(VALID_SIZE*num_train))\n",
    "    valid_idx, train_idx = indices[:split], indices[split:]\n",
    "    \n",
    "    train_sampler = SubsetRandomSampler(train_idx)\n",
    "    valid_sampler = SubsetRandomSampler(valid_idx)\n",
    "    \n",
    "    train_loader = torch.utils.data.DataLoader(dataset=train_ds, batch_size=BATCH_SIZE, sampler=train_sampler)\n",
    "    valid_loader = torch.utils.data.DataLoader(dataset=train_ds, batch_size=BATCH_SIZE, sampler=valid_sampler)\n",
    "    test_loader = torch.utils.data.DataLoader(dataset=test_ds, batch_size=BATCH_SIZE, shuffle=True)\n",
    "    \n",
    "    return train_loader, valid_loader, test_loader"
   ]
  },
  {
   "cell_type": "code",
   "execution_count": 11,
   "metadata": {},
   "outputs": [],
   "source": [
    "# The Network\n",
    "class conv(nn.Module):\n",
    "    def __init__(self, num_classes=10):\n",
    "        super(conv, self).__init__()\n",
    "        \n",
    "        self.layer1 = nn.Sequential(\n",
    "            nn.Conv2d(3, 32, kernel_size=5, stride=1, padding=2),\n",
    "            nn.BatchNorm2d(32),\n",
    "            nn.Dropout2d(p=0.4),\n",
    "            nn.ReLU(),\n",
    "            nn.MaxPool2d(kernel_size=2, stride=2)\n",
    "        )\n",
    "        \n",
    "        self.layer2 = nn.Sequential(\n",
    "            nn.Conv2d(32, 32, kernel_size=3, stride=1, padding=2),\n",
    "            nn.BatchNorm2d(32),\n",
    "            nn.ReLU(),\n",
    "            nn.MaxPool2d(kernel_size=2, stride=2)\n",
    "        )\n",
    "        \n",
    "        self.layer3 = nn.Sequential(\n",
    "            nn.Conv2d(32, 64, kernel_size=5, stride=1, padding=2),\n",
    "            nn.BatchNorm2d(64),\n",
    "            nn.Dropout2d(p=0.4),\n",
    "            nn.ReLU(),\n",
    "            nn.MaxPool2d(kernel_size=2, stride=2)\n",
    "        )\n",
    "        \n",
    "        self.fc1 = nn.Linear(4*4*64, 64)\n",
    "        self.fc2 = nn.Linear(64, num_classes)\n",
    "        \n",
    "    def forward(self, x):\n",
    "        out = self.layer1(x)\n",
    "        out = self.layer2(out)\n",
    "        out = self.layer3(out)\n",
    "        out = out.reshape(out.size(0), -1)\n",
    "        out = F.relu(self.fc1(out))\n",
    "        out = self.fc2(out)\n",
    "        return out\n",
    "    "
   ]
  },
  {
   "cell_type": "code",
   "execution_count": 12,
   "metadata": {},
   "outputs": [],
   "source": [
    "# Early Stopping class to stop when valid loss doesn't decrease further\n",
    "class EarlyStopping:\n",
    "    def __init__(self, patience=7, verbose=False, delta=0):\n",
    "        self.patience = patience\n",
    "        self.verbose = verbose\n",
    "        self.counter = 0\n",
    "        self.best_score = None\n",
    "        self.early_stop = False\n",
    "        self.val_loss_min = np.Inf\n",
    "        self.delta = delta\n",
    "\n",
    "    def __call__(self, val_loss, model):\n",
    "\n",
    "        score = -val_loss\n",
    "\n",
    "        if self.best_score is None:\n",
    "            self.best_score = score\n",
    "            self.save_checkpoint(val_loss, model)\n",
    "        elif score < self.best_score + self.delta:\n",
    "            self.counter += 1\n",
    "            print(f'EarlyStopping counter: {self.counter} out of {self.patience}')\n",
    "            if self.counter >= self.patience:\n",
    "                self.early_stop = True\n",
    "        else:\n",
    "            self.best_score = score\n",
    "            self.save_checkpoint(val_loss, model)\n",
    "            self.counter = 0\n",
    "\n",
    "    def save_checkpoint(self, val_loss, model):\n",
    "        '''Saves model when validation loss decrease.'''\n",
    "        if self.verbose:\n",
    "            print(f'Validation loss decreased ({self.val_loss_min:.6f} --> {val_loss:.6f}).  Saving model ...')\n",
    "        torch.save(model.state_dict(), 'checkpoint.pt')\n",
    "        self.val_loss_min = val_loss"
   ]
  },
  {
   "cell_type": "code",
   "execution_count": 13,
   "metadata": {},
   "outputs": [],
   "source": [
    "# Training function\n",
    "def training(model, LEARNING_RATE=0.001, PATIENCE=5, NUM_EPOCHS=50):\n",
    "    model = model.to(device)\n",
    "    \n",
    "    criterion = nn.CrossEntropyLoss()\n",
    "    optimizer = torch.optim.Adam(model.parameters(), lr = LEARNING_RATE)\n",
    "    \n",
    "    early_stopping = EarlyStopping(patience=PATIENCE, verbose=True)\n",
    "    \n",
    "    train_loss = []\n",
    "    valid_loss = []\n",
    "    train_acc = []\n",
    "    \n",
    "    total_step = len(train_loader)\n",
    "    for epoch in range(NUM_EPOCHS):\n",
    "        \n",
    "        model.train()\n",
    "        running_loss = 0.0\n",
    "        running_acc = 0.0\n",
    "        tot = 0\n",
    "        for i, (im, label) in enumerate(train_loader):\n",
    "            im = im.to(device)\n",
    "            label = label.to(device)\n",
    "            \n",
    "            out = model(im)\n",
    "            loss = criterion(out, label)\n",
    "            \n",
    "            optimizer.zero_grad()\n",
    "            loss.backward()\n",
    "            optimizer.step()\n",
    "            \n",
    "            running_loss += loss.item()\n",
    "            _, preds = torch.max(out.data, 1)\n",
    "            tot += preds.size(0)\n",
    "            running_acc += torch.sum(preds==label).item()\n",
    "            \n",
    "        epoch_loss = running_loss/(i+1)\n",
    "        epoch_acc = running_acc/(tot)\n",
    "        \n",
    "        train_loss.append(epoch_loss)\n",
    "        train_acc.append(epoch_acc)\n",
    "        \n",
    "        model.eval()\n",
    "        total = 0\n",
    "        running_valid_loss = 0.0\n",
    "        with torch.no_grad():\n",
    "            for (im, label) in valid_loader:\n",
    "                im = im.to(device)\n",
    "                label = label.to(device)\n",
    "\n",
    "                out = model(im)\n",
    "                running_valid_loss += criterion(out, label).item()\n",
    "                total += label.size(0)\n",
    "        \n",
    "        epoch_valid_loss = running_valid_loss/total\n",
    "        valid_loss.append(epoch_valid_loss)\n",
    "        print('Epoch {:.0f}/{:.0f} : Training Loss: {:.4f} | Validation Loss: {:.4f} | Training Accuracy: {:.4f} %'\n",
    "                    .format(epoch+1, NUM_EPOCHS, epoch_loss, epoch_valid_loss, epoch_acc*100))\n",
    "        \n",
    "        early_stopping(epoch_valid_loss, model)\n",
    "        if early_stopping.early_stop:\n",
    "            print(\"Early Stopping!!!\")\n",
    "            break\n",
    "            \n",
    "    model.load_state_dict(torch.load('checkpoint.pt'))\n",
    "    return model, train_loss, valid_loss, train_acc"
   ]
  },
  {
   "cell_type": "code",
   "execution_count": 14,
   "metadata": {},
   "outputs": [],
   "source": [
    "# Evaluation function\n",
    "def evaluate(model):\n",
    "    model.eval()\n",
    "    \n",
    "    with torch.no_grad():\n",
    "        correct = 0\n",
    "        total = 0\n",
    "        \n",
    "        for (im, label) in test_loader:\n",
    "            im = im.to(device)\n",
    "            label = label.to(device)\n",
    "            \n",
    "            out = model(im)\n",
    "            _, preds = torch.max(out.data, axis=1)\n",
    "            total += label.size(0)\n",
    "            correct += (preds==label).sum().item()\n",
    "            \n",
    "        print('Test Accuracy : {} %'.format(100*correct/total))\n",
    "        "
   ]
  },
  {
   "cell_type": "code",
   "execution_count": 15,
   "metadata": {},
   "outputs": [
    {
     "name": "stdout",
     "output_type": "stream",
     "text": [
      "GPU is not available ;-;\n"
     ]
    }
   ],
   "source": [
    "if torch.cuda.is_available():\n",
    "    print(\"GPU is available :D\")\n",
    "    device = torch.device('cuda:0')\n",
    "else:\n",
    "    print(\"GPU is not available ;-;\")\n",
    "    device = torch.device('cpu')"
   ]
  },
  {
   "cell_type": "markdown",
   "metadata": {},
   "source": [
    "<h2>Training</h2>"
   ]
  },
  {
   "cell_type": "code",
   "execution_count": 16,
   "metadata": {},
   "outputs": [
    {
     "name": "stdout",
     "output_type": "stream",
     "text": [
      "Epoch 1/50 : Training Loss: 2.1802 | Validation Loss: 0.0346 | Training Accuracy: 22.5177 %\n",
      "Validation loss decreased (inf --> 0.034587).  Saving model ...\n",
      "Epoch 2/50 : Training Loss: 1.8069 | Validation Loss: 0.0239 | Training Accuracy: 38.2092 %\n",
      "Validation loss decreased (0.034587 --> 0.023945).  Saving model ...\n",
      "Epoch 3/50 : Training Loss: 1.2948 | Validation Loss: 0.0157 | Training Accuracy: 59.4858 %\n",
      "Validation loss decreased (0.023945 --> 0.015737).  Saving model ...\n",
      "Epoch 4/50 : Training Loss: 0.8352 | Validation Loss: 0.0089 | Training Accuracy: 77.6596 %\n",
      "Validation loss decreased (0.015737 --> 0.008908).  Saving model ...\n",
      "Epoch 5/50 : Training Loss: 0.5630 | Validation Loss: 0.0070 | Training Accuracy: 85.9043 %\n",
      "Validation loss decreased (0.008908 --> 0.006974).  Saving model ...\n",
      "Epoch 6/50 : Training Loss: 0.4317 | Validation Loss: 0.0058 | Training Accuracy: 88.8298 %\n",
      "Validation loss decreased (0.006974 --> 0.005843).  Saving model ...\n",
      "Epoch 7/50 : Training Loss: 0.3439 | Validation Loss: 0.0044 | Training Accuracy: 91.4007 %\n",
      "Validation loss decreased (0.005843 --> 0.004363).  Saving model ...\n",
      "Epoch 8/50 : Training Loss: 0.2876 | Validation Loss: 0.0037 | Training Accuracy: 93.2624 %\n",
      "Validation loss decreased (0.004363 --> 0.003691).  Saving model ...\n",
      "Epoch 9/50 : Training Loss: 0.2384 | Validation Loss: 0.0034 | Training Accuracy: 94.4149 %\n",
      "Validation loss decreased (0.003691 --> 0.003392).  Saving model ...\n",
      "Epoch 10/50 : Training Loss: 0.2089 | Validation Loss: 0.0031 | Training Accuracy: 95.3901 %\n",
      "Validation loss decreased (0.003392 --> 0.003101).  Saving model ...\n",
      "Epoch 11/50 : Training Loss: 0.1716 | Validation Loss: 0.0026 | Training Accuracy: 95.8333 %\n",
      "Validation loss decreased (0.003101 --> 0.002571).  Saving model ...\n",
      "Epoch 12/50 : Training Loss: 0.1676 | Validation Loss: 0.0029 | Training Accuracy: 96.6312 %\n",
      "EarlyStopping counter: 1 out of 5\n",
      "Epoch 13/50 : Training Loss: 0.1460 | Validation Loss: 0.0021 | Training Accuracy: 96.6312 %\n",
      "Validation loss decreased (0.002571 --> 0.002061).  Saving model ...\n",
      "Epoch 14/50 : Training Loss: 0.1290 | Validation Loss: 0.0021 | Training Accuracy: 97.0745 %\n",
      "EarlyStopping counter: 1 out of 5\n",
      "Epoch 15/50 : Training Loss: 0.1169 | Validation Loss: 0.0023 | Training Accuracy: 97.5177 %\n",
      "EarlyStopping counter: 2 out of 5\n",
      "Epoch 16/50 : Training Loss: 0.1131 | Validation Loss: 0.0022 | Training Accuracy: 97.6950 %\n",
      "EarlyStopping counter: 3 out of 5\n",
      "Epoch 17/50 : Training Loss: 0.0814 | Validation Loss: 0.0017 | Training Accuracy: 97.8723 %\n",
      "Validation loss decreased (0.002061 --> 0.001705).  Saving model ...\n",
      "Epoch 18/50 : Training Loss: 0.0727 | Validation Loss: 0.0018 | Training Accuracy: 98.5816 %\n",
      "EarlyStopping counter: 1 out of 5\n",
      "Epoch 19/50 : Training Loss: 0.0681 | Validation Loss: 0.0019 | Training Accuracy: 98.5816 %\n",
      "EarlyStopping counter: 2 out of 5\n",
      "Epoch 20/50 : Training Loss: 0.0702 | Validation Loss: 0.0020 | Training Accuracy: 98.4043 %\n",
      "EarlyStopping counter: 3 out of 5\n",
      "Epoch 21/50 : Training Loss: 0.0634 | Validation Loss: 0.0019 | Training Accuracy: 98.9362 %\n",
      "EarlyStopping counter: 4 out of 5\n",
      "Epoch 22/50 : Training Loss: 0.0583 | Validation Loss: 0.0026 | Training Accuracy: 98.5816 %\n",
      "EarlyStopping counter: 5 out of 5\n",
      "Early Stopping!!!\n"
     ]
    }
   ],
   "source": [
    "# Hyperparameters\n",
    "PATIENCE = 5\n",
    "LEARNING_RATE = 0.001\n",
    "NUM_EPOCHS = 50\n",
    "HEIGHT = 35\n",
    "WIDTH = 28\n",
    "BATCH_SIZE = 64\n",
    "TEST_SIZE = 0.10\n",
    "VALID_SIZE = 0.10\n",
    "\n",
    "# Model Object Initialization\n",
    "model = conv()\n",
    "\n",
    "# Data loaders\n",
    "train_loader, valid_loader, test_loader = create_dataset(\n",
    "                                                     image_list,\n",
    "                                                     labels,\n",
    "                                                     BATCH_SIZE=BATCH_SIZE,\n",
    "                                                     VALID_SIZE=VALID_SIZE,\n",
    "                                                     TEST_SIZE=TEST_SIZE,\n",
    "                                                     HEIGHT=HEIGHT,\n",
    "                                                     WIDTH=WIDTH,\n",
    "                                                )\n",
    "\n",
    "# Starting training\n",
    "model, train_loss, valid_loss, train_acc = training(\n",
    "                                                model, \n",
    "                                                LEARNING_RATE=LEARNING_RATE, \n",
    "                                                PATIENCE=PATIENCE, \n",
    "                                                NUM_EPOCHS=NUM_EPOCHS\n",
    "                                            )"
   ]
  },
  {
   "cell_type": "code",
   "execution_count": 17,
   "metadata": {},
   "outputs": [
    {
     "name": "stdout",
     "output_type": "stream",
     "text": [
      "Test Accuracy : 95.71428571428571 %\n"
     ]
    }
   ],
   "source": [
    "# Inference\n",
    "evaluate(model)"
   ]
  },
  {
   "cell_type": "markdown",
   "metadata": {},
   "source": [
    "<h2>Training and Validation loss curves</h2>"
   ]
  },
  {
   "cell_type": "code",
   "execution_count": 18,
   "metadata": {},
   "outputs": [
    {
     "data": {
      "text/plain": [
       "<matplotlib.legend.Legend at 0x7f047347efd0>"
      ]
     },
     "execution_count": 18,
     "metadata": {},
     "output_type": "execute_result"
    },
    {
     "data": {
      "image/png": "[encoded data removed]",
      "text/plain": [
       "<Figure size 1080x360 with 2 Axes>"
      ]
     },
     "metadata": {
      "needs_background": "light"
     },
     "output_type": "display_data"
    }
   ],
   "source": [
    "fig = plt.figure(figsize=[15, 5])\n",
    "\n",
    "plt.subplot(121)\n",
    "plt.plot(range(1, len(train_loss)+1), train_loss, 'b', label='Training Loss')\n",
    "plt.plot(range(1, len(valid_loss)+1), valid_loss, 'c', label='Validation Loss')\n",
    "minposs = valid_loss.index(min(valid_loss))+1 \n",
    "plt.axvline(minposs, linestyle='--', color='r',label='Early Stopping Checkpoint')\n",
    "plt.gca().set_title('Training And Validation Loss')\n",
    "plt.xlabel('Epochs')\n",
    "plt.ylabel('Loss')\n",
    "plt.legend(loc='upper right')\n",
    "\n",
    "plt.subplot(122)\n",
    "plt.plot(range(1, len(train_acc)+1), train_acc, 'g', label='Accuracy')\n",
    "plt.gca().set_title('Training Accuracy')\n",
    "plt.xlabel('Epochs')\n",
    "plt.ylabel('Accuracy')\n",
    "plt.legend(loc='upper right')"
   ]
  },
  {
   "cell_type": "code",
   "execution_count": null,
   "metadata": {},
   "outputs": [],
   "source": []
  },
  {
   "cell_type": "code",
   "execution_count": null,
   "metadata": {},
   "outputs": [],
   "source": []
  }
 ],
 "metadata": {
  "kernelspec": {
   "display_name": "Python 3",
   "language": "python",
   "name": "python3"
  },
  "language_info": {
   "codemirror_mode": {
    "name": "ipython",
    "version": 3
   },
   "file_extension": ".py",
   "mimetype": "text/x-python",
   "name": "python",
   "nbconvert_exporter": "python",
   "pygments_lexer": "ipython3",
   "version": "3.6.9"
  }
 },
 "nbformat": 4,
 "nbformat_minor": 4
}
