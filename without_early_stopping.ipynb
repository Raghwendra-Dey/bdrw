{
 "cells": [
  {
   "cell_type": "code",
   "execution_count": 1,
   "metadata": {
    "_cell_guid": "79c7e3d0-c299-4dcb-8224-4455121ee9b0",
    "_uuid": "d629ff2d2480ee46fbb7e2d37f6b5fab8052498a"
   },
   "outputs": [],
   "source": [
    "import pandas as pd\n",
    "import numpy as np\n",
    "import cv2\n",
    "from zipfile import ZipFile\n",
    "import matplotlib.pyplot as plt\n",
    "import sklearn.preprocessing\n",
    "import os\n",
    "import glob\n",
    "import fnmatch\n",
    "import scipy"
   ]
  },
  {
   "cell_type": "code",
   "execution_count": 2,
   "metadata": {},
   "outputs": [
    {
     "name": "stdout",
     "output_type": "stream",
     "text": [
      "Extracting all the files now...\n",
      "Done!\n",
      "Extracting all the files now...\n",
      "Done!\n"
     ]
    }
   ],
   "source": [
    "base_file_name = \"../input/bdrw/BDRW_train/BDRW_train_\"\n",
    "  \n",
    "for i in range(2):\n",
    "    with ZipFile(base_file_name+str(i+1)+'.zip', 'r') as zip: \n",
    "        print('Extracting all the files now...') \n",
    "        zip.extractall() \n",
    "        print('Done!') "
   ]
  },
  {
   "cell_type": "code",
   "execution_count": 3,
   "metadata": {},
   "outputs": [
    {
     "data": {
      "text/html": [
       "<div>\n",
       "<style scoped>\n",
       "    .dataframe tbody tr th:only-of-type {\n",
       "        vertical-align: middle;\n",
       "    }\n",
       "\n",
       "    .dataframe tbody tr th {\n",
       "        vertical-align: top;\n",
       "    }\n",
       "\n",
       "    .dataframe thead th {\n",
       "        text-align: right;\n",
       "    }\n",
       "</style>\n",
       "<table border=\"1\" class=\"dataframe\">\n",
       "  <thead>\n",
       "    <tr style=\"text-align: right;\">\n",
       "      <th></th>\n",
       "      <th>digit_name</th>\n",
       "      <th>label</th>\n",
       "    </tr>\n",
       "  </thead>\n",
       "  <tbody>\n",
       "    <tr>\n",
       "      <th>0</th>\n",
       "      <td>digit_0</td>\n",
       "      <td>1</td>\n",
       "    </tr>\n",
       "    <tr>\n",
       "      <th>1</th>\n",
       "      <td>digit_1</td>\n",
       "      <td>4</td>\n",
       "    </tr>\n",
       "    <tr>\n",
       "      <th>2</th>\n",
       "      <td>digit_2</td>\n",
       "      <td>2</td>\n",
       "    </tr>\n",
       "    <tr>\n",
       "      <th>3</th>\n",
       "      <td>digit_3</td>\n",
       "      <td>3</td>\n",
       "    </tr>\n",
       "    <tr>\n",
       "      <th>4</th>\n",
       "      <td>digit_4</td>\n",
       "      <td>1</td>\n",
       "    </tr>\n",
       "    <tr>\n",
       "      <th>5</th>\n",
       "      <td>digit_5</td>\n",
       "      <td>2</td>\n",
       "    </tr>\n",
       "    <tr>\n",
       "      <th>6</th>\n",
       "      <td>digit_6</td>\n",
       "      <td>3</td>\n",
       "    </tr>\n",
       "    <tr>\n",
       "      <th>7</th>\n",
       "      <td>digit_7</td>\n",
       "      <td>4</td>\n",
       "    </tr>\n",
       "    <tr>\n",
       "      <th>8</th>\n",
       "      <td>digit_8</td>\n",
       "      <td>5</td>\n",
       "    </tr>\n",
       "    <tr>\n",
       "      <th>9</th>\n",
       "      <td>digit_9</td>\n",
       "      <td>6</td>\n",
       "    </tr>\n",
       "  </tbody>\n",
       "</table>\n",
       "</div>"
      ],
      "text/plain": [
       "  digit_name  label\n",
       "0    digit_0      1\n",
       "1    digit_1      4\n",
       "2    digit_2      2\n",
       "3    digit_3      3\n",
       "4    digit_4      1\n",
       "5    digit_5      2\n",
       "6    digit_6      3\n",
       "7    digit_7      4\n",
       "8    digit_8      5\n",
       "9    digit_9      6"
      ]
     },
     "execution_count": 3,
     "metadata": {},
     "output_type": "execute_result"
    }
   ],
   "source": [
    "labels = pd.read_excel('BDRW_train_2/labels.xls', header=None, names=['digit_name', 'label'])\n",
    "labels.head(10)"
   ]
  },
  {
   "cell_type": "code",
   "execution_count": 4,
   "metadata": {},
   "outputs": [
    {
     "data": {
      "image/png": "[encoded data removed]",
      "text/plain": [
       "<Figure size 432x288 with 1 Axes>"
      ]
     },
     "metadata": {
      "needs_background": "light"
     },
     "output_type": "display_data"
    }
   ],
   "source": [
    "labels['label'].hist()\n",
    "labels = np.array(labels['label'])"
   ]
  },
  {
   "cell_type": "code",
   "execution_count": 5,
   "metadata": {},
   "outputs": [],
   "source": [
    "image_list = []\n",
    "for i in range(2):\n",
    "    for file in sorted(glob.glob('BDRW_train_'+str(i+1)+'/*.jpg'), key=lambda s:int(s.split('_')[-1].split('.')[0])):\n",
    "        im = cv2.imread(file)\n",
    "        image_list.append(im)\n",
    "        \n",
    "image_list = np.array(image_list)"
   ]
  },
  {
   "cell_type": "code",
   "execution_count": 6,
   "metadata": {},
   "outputs": [
    {
     "data": {
      "text/plain": [
       "array([35.45441493, 27.82483848])"
      ]
     },
     "execution_count": 6,
     "metadata": {},
     "output_type": "execute_result"
    },
    {
     "data": {
      "image/png": "[encoded data removed]",
      "text/plain": [
       "<Figure size 432x288 with 1 Axes>"
      ]
     },
     "metadata": {
      "needs_background": "light"
     },
     "output_type": "display_data"
    }
   ],
   "source": [
    "shapes = np.array([x.shape for x in image_list]).T\n",
    "plt.scatter(shapes[0], shapes[1])\n",
    "np.mean(shapes[:2], axis=1)"
   ]
  },
  {
   "cell_type": "code",
   "execution_count": 7,
   "metadata": {},
   "outputs": [],
   "source": [
    "import torch\n",
    "import torchvision\n",
    "import torch.nn as nn\n",
    "from torchvision import transforms\n",
    "from PIL import Image"
   ]
  },
  {
   "cell_type": "code",
   "execution_count": 8,
   "metadata": {},
   "outputs": [],
   "source": [
    "from sklearn.model_selection import train_test_split\n",
    "\n",
    "TRAIN_SIZE = 0.85\n",
    "X_train, X_test, Y_train, Y_test = train_test_split(image_list, labels, train_size=TRAIN_SIZE)"
   ]
  },
  {
   "cell_type": "code",
   "execution_count": 9,
   "metadata": {},
   "outputs": [],
   "source": [
    "class custom_dataset(torch.utils.data.Dataset):\n",
    "    def __init__(self, image_list, labels, height, width):\n",
    "        self.image_list = image_list\n",
    "        self.labels = labels\n",
    "        self.height = height\n",
    "        self.width = width\n",
    "        \n",
    "    def transform(self):\n",
    "        return(transforms.Compose([\n",
    "            transforms.Resize(size=(self.height, self.width)),\n",
    "            transforms.ToTensor()\n",
    "        ]))\n",
    "    \n",
    "    def __getitem__(self, index):\n",
    "        label = self.labels[index]\n",
    "        im = self.image_list[index]\n",
    "        im = Image.fromarray(im)\n",
    "        im = self.transform()(im)\n",
    "        \n",
    "        return (im, label)\n",
    "    \n",
    "    def __len__(self):\n",
    "        return len(self.image_list)"
   ]
  },
  {
   "cell_type": "code",
   "execution_count": 10,
   "metadata": {},
   "outputs": [],
   "source": [
    "HEIGHT = 35\n",
    "WIDTH = 28\n",
    "BATCH_SIZE = 64\n",
    "\n",
    "train_ds = custom_dataset(X_train, Y_train, HEIGHT, WIDTH)\n",
    "test_ds = custom_dataset(X_test, Y_test, HEIGHT, WIDTH)\n",
    "train_loader = torch.utils.data.DataLoader(dataset=train_ds, batch_size=BATCH_SIZE, shuffle=True)\n",
    "test_loader = torch.utils.data.DataLoader(dataset=test_ds, batch_size=BATCH_SIZE, shuffle=True)"
   ]
  },
  {
   "cell_type": "code",
   "execution_count": 11,
   "metadata": {},
   "outputs": [],
   "source": [
    "class conv(nn.Module):\n",
    "    def __init__(self, num_classes=10):\n",
    "        super(conv, self).__init__()\n",
    "        \n",
    "        self.layer1 = nn.Sequential(\n",
    "            nn.Conv2d(3, 32, kernel_size=5, stride=1, padding=2),\n",
    "            nn.BatchNorm2d(32),\n",
    "            nn.Dropout2d(p=0.4),\n",
    "            nn.ReLU(),\n",
    "            nn.MaxPool2d(kernel_size=2, stride=2)\n",
    "        )\n",
    "        \n",
    "        self.layer2 = nn.Sequential(\n",
    "            nn.Conv2d(32, 32, kernel_size=3, stride=1, padding=2),\n",
    "            nn.BatchNorm2d(32),\n",
    "            nn.ReLU(),\n",
    "            nn.MaxPool2d(kernel_size=2, stride=2)\n",
    "        )\n",
    "        \n",
    "        self.layer3 = nn.Sequential(\n",
    "            nn.Conv2d(32, 64, kernel_size=5, stride=1, padding=2),\n",
    "            nn.BatchNorm2d(64),\n",
    "            nn.Dropout2d(p=0.4),\n",
    "            nn.ReLU(),\n",
    "            nn.MaxPool2d(kernel_size=2, stride=2)\n",
    "        )\n",
    "        \n",
    "        self.fc1 = nn.Linear(4*4*64, 64)\n",
    "        self.fc2 = nn.Linear(64, num_classes)\n",
    "        \n",
    "    def forward(self, x):\n",
    "        out = self.layer1(x)\n",
    "        out = self.layer2(out)\n",
    "        out = self.layer3(out)\n",
    "        out = out.reshape(out.size(0), -1)\n",
    "        out = self.fc1(out)\n",
    "        out = self.fc2(out)\n",
    "        return out\n",
    "    "
   ]
  },
  {
   "cell_type": "code",
   "execution_count": 12,
   "metadata": {},
   "outputs": [
    {
     "name": "stdout",
     "output_type": "stream",
     "text": [
      "GPU is not available ;-;\n"
     ]
    }
   ],
   "source": [
    "if torch.cuda.is_available():\n",
    "    print(\"GPU is available!!!\")\n",
    "    device = torch.device('cuda:0')\n",
    "else:\n",
    "    print(\"GPU is not available ;-;\")\n",
    "    device = torch.device('cpu')"
   ]
  },
  {
   "cell_type": "code",
   "execution_count": 13,
   "metadata": {},
   "outputs": [],
   "source": [
    "LEARNING_RATE = 0.001\n",
    "NUM_EPOCHS = 50\n",
    "\n",
    "def train():\n",
    "    model = conv().to(device)\n",
    "    print(model)\n",
    "\n",
    "    criterion = nn.CrossEntropyLoss()\n",
    "    optimizer = torch.optim.Adam(model.parameters(), lr = LEARNING_RATE)\n",
    "    \n",
    "    train_loss = []\n",
    "    train_acc = []\n",
    "    \n",
    "    total_step = len(train_loader)\n",
    "    for epoch in range(NUM_EPOCHS):\n",
    "        \n",
    "        running_loss = 0.0\n",
    "        running_acc = 0.0\n",
    "        tot = 0\n",
    "        for i, (im, label) in enumerate(train_loader):\n",
    "            im = im.to(device)\n",
    "            label = label.to(device)\n",
    "            \n",
    "            out = model(im)\n",
    "            loss = criterion(out, label)\n",
    "            \n",
    "            optimizer.zero_grad()\n",
    "            loss.backward()\n",
    "            optimizer.step()\n",
    "            \n",
    "            running_loss += loss.item()\n",
    "            _, preds = torch.max(out.data, 1)\n",
    "            tot += preds.size(0)\n",
    "            running_acc += torch.sum(preds==label).item()\n",
    "            \n",
    "        epoch_loss = running_loss/(i+1)\n",
    "        epoch_acc = running_acc/(tot)\n",
    "        \n",
    "        train_loss.append(epoch_loss)\n",
    "        train_acc.append(epoch_acc)\n",
    "        \n",
    "        print('Epoch {:.0f}/{:.0f} : Training loss: {:.4f} | Training Accuracy: {:.4f} %'\n",
    "                    .format(epoch+1, NUM_EPOCHS, epoch_loss, epoch_acc*100))\n",
    "    \n",
    "    return model, train_loss, train_acc\n",
    "\n",
    "\n",
    "def evaluate(model):\n",
    "    model.eval()\n",
    "    \n",
    "    with torch.no_grad():\n",
    "        correct = 0\n",
    "        total = 0\n",
    "        \n",
    "        for (im, label) in test_loader:\n",
    "            im = im.to(device)\n",
    "            label = label.to(device)\n",
    "            \n",
    "            out = model(im)\n",
    "            _, preds = torch.max(out.data, 1)\n",
    "            total += label.size(0)\n",
    "            correct += (preds==label).sum().item()\n",
    "            \n",
    "        print('Test Accuracy : {} %'.format(100*correct/total))\n",
    "        "
   ]
  },
  {
   "cell_type": "code",
   "execution_count": 14,
   "metadata": {},
   "outputs": [
    {
     "name": "stdout",
     "output_type": "stream",
     "text": [
      "conv(\n",
      "  (layer1): Sequential(\n",
      "    (0): Conv2d(3, 32, kernel_size=(5, 5), stride=(1, 1), padding=(2, 2))\n",
      "    (1): BatchNorm2d(32, eps=1e-05, momentum=0.1, affine=True, track_running_stats=True)\n",
      "    (2): Dropout2d(p=0.4, inplace=False)\n",
      "    (3): ReLU()\n",
      "    (4): MaxPool2d(kernel_size=2, stride=2, padding=0, dilation=1, ceil_mode=False)\n",
      "  )\n",
      "  (layer2): Sequential(\n",
      "    (0): Conv2d(32, 32, kernel_size=(3, 3), stride=(1, 1), padding=(2, 2))\n",
      "    (1): BatchNorm2d(32, eps=1e-05, momentum=0.1, affine=True, track_running_stats=True)\n",
      "    (2): ReLU()\n",
      "    (3): MaxPool2d(kernel_size=2, stride=2, padding=0, dilation=1, ceil_mode=False)\n",
      "  )\n",
      "  (layer3): Sequential(\n",
      "    (0): Conv2d(32, 64, kernel_size=(5, 5), stride=(1, 1), padding=(2, 2))\n",
      "    (1): BatchNorm2d(64, eps=1e-05, momentum=0.1, affine=True, track_running_stats=True)\n",
      "    (2): Dropout2d(p=0.4, inplace=False)\n",
      "    (3): ReLU()\n",
      "    (4): MaxPool2d(kernel_size=2, stride=2, padding=0, dilation=1, ceil_mode=False)\n",
      "  )\n",
      "  (fc1): Linear(in_features=1024, out_features=64, bias=True)\n",
      "  (fc2): Linear(in_features=64, out_features=10, bias=True)\n",
      ")\n",
      "Epoch 1/50 : Training loss: 2.2110 | Training Accuracy: 22.6351 %\n",
      "Epoch 2/50 : Training loss: 1.5143 | Training Accuracy: 50.5912 %\n",
      "Epoch 3/50 : Training loss: 0.8837 | Training Accuracy: 74.9155 %\n",
      "Epoch 4/50 : Training loss: 0.5563 | Training Accuracy: 84.7128 %\n",
      "Epoch 5/50 : Training loss: 0.4370 | Training Accuracy: 87.8378 %\n",
      "Epoch 6/50 : Training loss: 0.3347 | Training Accuracy: 91.1318 %\n",
      "Epoch 7/50 : Training loss: 0.2528 | Training Accuracy: 93.8345 %\n",
      "Epoch 8/50 : Training loss: 0.2092 | Training Accuracy: 95.0169 %\n",
      "Epoch 9/50 : Training loss: 0.1707 | Training Accuracy: 96.0304 %\n",
      "Epoch 10/50 : Training loss: 0.1537 | Training Accuracy: 96.1993 %\n",
      "Epoch 11/50 : Training loss: 0.1467 | Training Accuracy: 96.3682 %\n",
      "Epoch 12/50 : Training loss: 0.1169 | Training Accuracy: 97.5507 %\n",
      "Epoch 13/50 : Training loss: 0.1018 | Training Accuracy: 97.6351 %\n",
      "Epoch 14/50 : Training loss: 0.1057 | Training Accuracy: 97.3818 %\n",
      "Epoch 15/50 : Training loss: 0.0933 | Training Accuracy: 97.5507 %\n",
      "Epoch 16/50 : Training loss: 0.0883 | Training Accuracy: 97.7196 %\n",
      "Epoch 17/50 : Training loss: 0.0797 | Training Accuracy: 98.6486 %\n",
      "Epoch 18/50 : Training loss: 0.0693 | Training Accuracy: 98.5642 %\n",
      "Epoch 19/50 : Training loss: 0.0544 | Training Accuracy: 98.6486 %\n",
      "Epoch 20/50 : Training loss: 0.0566 | Training Accuracy: 98.7331 %\n",
      "Epoch 21/50 : Training loss: 0.0521 | Training Accuracy: 98.8176 %\n",
      "Epoch 22/50 : Training loss: 0.0421 | Training Accuracy: 99.4088 %\n",
      "Epoch 23/50 : Training loss: 0.0297 | Training Accuracy: 99.6622 %\n",
      "Epoch 24/50 : Training loss: 0.0289 | Training Accuracy: 99.5777 %\n",
      "Epoch 25/50 : Training loss: 0.0293 | Training Accuracy: 99.2399 %\n",
      "Epoch 26/50 : Training loss: 0.0292 | Training Accuracy: 99.3243 %\n",
      "Epoch 27/50 : Training loss: 0.0310 | Training Accuracy: 99.2399 %\n",
      "Epoch 28/50 : Training loss: 0.0336 | Training Accuracy: 99.4088 %\n",
      "Epoch 29/50 : Training loss: 0.0317 | Training Accuracy: 99.1554 %\n",
      "Epoch 30/50 : Training loss: 0.0385 | Training Accuracy: 98.9865 %\n",
      "Epoch 31/50 : Training loss: 0.0281 | Training Accuracy: 99.4932 %\n",
      "Epoch 32/50 : Training loss: 0.0211 | Training Accuracy: 99.6622 %\n",
      "Epoch 33/50 : Training loss: 0.0431 | Training Accuracy: 98.9020 %\n",
      "Epoch 34/50 : Training loss: 0.0320 | Training Accuracy: 99.2399 %\n",
      "Epoch 35/50 : Training loss: 0.0274 | Training Accuracy: 99.5777 %\n",
      "Epoch 36/50 : Training loss: 0.0199 | Training Accuracy: 99.4932 %\n",
      "Epoch 37/50 : Training loss: 0.0251 | Training Accuracy: 99.3243 %\n",
      "Epoch 38/50 : Training loss: 0.0152 | Training Accuracy: 99.5777 %\n",
      "Epoch 39/50 : Training loss: 0.0113 | Training Accuracy: 99.8311 %\n",
      "Epoch 40/50 : Training loss: 0.0138 | Training Accuracy: 99.6622 %\n",
      "Epoch 41/50 : Training loss: 0.0122 | Training Accuracy: 100.0000 %\n",
      "Epoch 42/50 : Training loss: 0.0115 | Training Accuracy: 99.7466 %\n",
      "Epoch 43/50 : Training loss: 0.0142 | Training Accuracy: 99.7466 %\n",
      "Epoch 44/50 : Training loss: 0.0146 | Training Accuracy: 99.7466 %\n",
      "Epoch 45/50 : Training loss: 0.0188 | Training Accuracy: 99.5777 %\n",
      "Epoch 46/50 : Training loss: 0.0103 | Training Accuracy: 99.7466 %\n",
      "Epoch 47/50 : Training loss: 0.0125 | Training Accuracy: 99.9155 %\n",
      "Epoch 48/50 : Training loss: 0.0109 | Training Accuracy: 99.8311 %\n",
      "Epoch 49/50 : Training loss: 0.0111 | Training Accuracy: 99.7466 %\n",
      "Epoch 50/50 : Training loss: 0.0085 | Training Accuracy: 100.0000 %\n"
     ]
    }
   ],
   "source": [
    "model, train_loss, train_acc = train()"
   ]
  },
  {
   "cell_type": "code",
   "execution_count": 15,
   "metadata": {},
   "outputs": [
    {
     "name": "stdout",
     "output_type": "stream",
     "text": [
      "Test Accuracy : 93.77990430622009 %\n"
     ]
    }
   ],
   "source": [
    "evaluate(model)"
   ]
  },
  {
   "cell_type": "code",
   "execution_count": 16,
   "metadata": {},
   "outputs": [
    {
     "data": {
      "text/plain": [
       "<matplotlib.legend.Legend at 0x7f12c3f90650>"
      ]
     },
     "execution_count": 16,
     "metadata": {},
     "output_type": "execute_result"
    },
    {
     "data": {
      "image/png": "[encoded data removed]",
      "text/plain": [
       "<Figure size 1080x360 with 2 Axes>"
      ]
     },
     "metadata": {
      "needs_background": "light"
     },
     "output_type": "display_data"
    }
   ],
   "source": [
    "fig = plt.figure(figsize=[15, 5])\n",
    "\n",
    "plt.subplot(121)\n",
    "plt.plot(range(NUM_EPOCHS), train_loss, 'r-', label='Loss')\n",
    "plt.gca().set_title('Training Loss')\n",
    "plt.xlabel('Epochs')\n",
    "plt.ylabel('Loss')\n",
    "plt.legend(loc='upper right')\n",
    "\n",
    "plt.subplot(122)\n",
    "plt.plot(range(NUM_EPOCHS), train_acc, 'g-', label='Accuracy')\n",
    "plt.gca().set_title('Training Accuracy')\n",
    "plt.xlabel('Epochs')\n",
    "plt.ylabel('Accuracy')\n",
    "plt.legend(loc='upper right')"
   ]
  },
  {
   "cell_type": "code",
   "execution_count": null,
   "metadata": {},
   "outputs": [],
   "source": []
  },
  {
   "cell_type": "code",
   "execution_count": null,
   "metadata": {},
   "outputs": [],
   "source": []
  }
 ],
 "metadata": {
  "kernelspec": {
   "display_name": "Python 3",
   "language": "python",
   "name": "python3"
  },
  "language_info": {
   "codemirror_mode": {
    "name": "ipython",
    "version": 3
   },
   "file_extension": ".py",
   "mimetype": "text/x-python",
   "name": "python",
   "nbconvert_exporter": "python",
   "pygments_lexer": "ipython3",
   "version": "3.6.9"
  }
 },
 "nbformat": 4,
 "nbformat_minor": 4
}
